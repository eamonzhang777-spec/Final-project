{
  "nbformat": 4,
  "nbformat_minor": 0,
  "metadata": {
    "colab": {
      "provenance": [],
      "authorship_tag": "ABX9TyM5l9w1/OeSSdmQrXNkiFos",
      "include_colab_link": true
    },
    "kernelspec": {
      "name": "python3",
      "display_name": "Python 3"
    },
    "language_info": {
      "name": "python"
    }
  },
  "cells": [
    {
      "cell_type": "markdown",
      "metadata": {
        "id": "view-in-github",
        "colab_type": "text"
      },
      "source": [
        "<a href=\"https://colab.research.google.com/github/eamonzhang777-spec/Final-project/blob/main/Pandas_%26_Data_Visualization_with_Plotly_Final_Project.ipynb\" target=\"_parent\"><img src=\"https://colab.research.google.com/assets/colab-badge.svg\" alt=\"Open In Colab\"/></a>"
      ]
    },
    {
      "cell_type": "markdown",
      "source": [
        "Uni: yz4892\n",
        "\n",
        "Name: Yimeng Zhang\n",
        "\n",
        "\n",
        "# 1.Introduction\n",
        "## Background\n",
        "With the urbanization and changes in demographic structure, public health in metropolitan areas has become a growing focus. As one of the most densely populated city in the United States and even in the world, New York City's distribution and trends in causes of death are of great research value.\n",
        "Over the past fifteen years, NYC has faced multiple public health challenges, including seasonal influenza, persistent threats of chronic diseases, and the COVID-19 pandemic beginning in 2020. These events profoundly impacted the health and mortality of city residents. When analyzing different causes of death, we can not only assess the effectiveness of existing public health policies but also provide data analysis of the trends to support future resource allocation and intervention strategies.\n",
        "## Objectives\n",
        "Understanding the main causes of death is fundamental for effective public health policymaking and efficiently allocating healthcare resources. This project analyzes the top five causes of death in New York City from 2007 to 2021, based on data from [NYC Open Data](https://data.cityofnewyork.us/Health/New-York-City-Leading-Causes-of-Death/jb7j-dtam/about_data). By identifying the trends and patterns in mortality, this project aims to help policymakers and healthcare department to analyze the top health risks affect public health in New York city. This analysis could contribute to design of targeted interventions, such as disease prevention programs and public health projects.\n",
        "## Data Sources\n",
        "The dataset is provided by the NYC Department of Health, including demographic variables such as Year, Leading Cause, Sex, Race Ethnicity, Deaths, Death Rate, Age Adjusted Death Rates, covering a complete 15-year period from 2007 to 2021. The original dataset contains 2102 records, 843,059 total deaths number, and 7 variables, including year, leading cause of death, sex, race/ethnicity, number of deaths, death rate, and age-adjusted death rate [(NYC Open Data, 2025)](https://data.cityofnewyork.us/Health/New-York-City-Leading-Causes-of-Death/jb7j-dtam/about_data).\n",
        "# 2. Methodology\n",
        "## Processing Tools（Pandas+Plotly）\n",
        "This study primarily utilizes two core libraries from Python: Pandas and Plotly. Pandas is a powerful data processing library, offers efficient data cleaning, transformation, and aggregation capabilities. Plotly is practical for data visualization, making it time-series data clear and direct [(Stack Abuse,2023)](https://stackabuse.com/introduction-to-data-visualization-in-python-with-pandas/).\n",
        "\n",
        "Pandas library stands for Python data analysis, which is useful for working with both numeric and text data stored in tabular format [(Krisel, 2025)](https://docs.google.com/presentation/d/1DSsHqu4yPCiaG7WzqIM2XVGcArT5P_C23iWNRdBPsmI/edit?slide=id.g20c42a2e460_0_104#slide=id.g20c42a2e460_0_104). In this study, the dataset is panel data, including 2102 observations over multiple time periods (2007-2021) across 7 different variables. Pandas could perform critical tasks for panel data such as standardizing column names, converting data types and removing missing values. Pandas could group data by aggregating death counts by cause and year to establish a solid analysis foundation for subsequent process.\n",
        "\n",
        "Plotly was adopted in this study for interactive visualization. It could transform data into dynamic charts, enabling clear and intuitive forms of trends. By generating an interactive line chart with features like zooming, we could not only clearly illustrate the trends of leading 5 causes of death over 15 years, but also included the data details, significantly enhancing the communication and impact of the analysis. Compared with Matplotlib, Plotly could generate the interactive details in the curriculum, offering stronger exploratory evidence [(Toward data science, 2024)](https://towardsdatascience.com/seven-key-features-you-should-know-for-creating-professional-visualizations-with-plotly-f89558de5d0c/)\n",
        "## Data Processing\n",
        "First, standardized column names by eliminating inconsistencies in spacing and capitalization. Prevents bugs from inconsistent casing or stray spaces in headers. Second, converted the 'Deaths' column to a numeric type, handling potential conversion errors. Since the presence of missing values in the original data, this study removed completely missing key variables. In analysis phase, this study first grouped and aggregated the data by cause of death and year, calculating the total number of deaths for each year. Then, the top five leading causes of death were identified, according to the total number of deaths over the period.\n",
        "## Visualization\n",
        "To make the trends clear, this study utilized interactive line charts as the visualization format. Line chart could show long-term and short-term trends clearly, making increases or decreases intuitive. In addition, this study utilized it to compare multiple categories across time, different causes of death showing as separate lines simultaneously. Each color line represented one cause of death, with data point markers added to indicate data value and improve readability. The chart design follows data visualization practices, including clear axis labels and a responsive layout.\n",
        "\n"
      ],
      "metadata": {
        "id": "r8hVKUoXMwlD"
      }
    },
    {
      "cell_type": "markdown",
      "source": [
        "# 3. Results"
      ],
      "metadata": {
        "id": "aoUsOJmRNQ5v"
      }
    },
    {
      "cell_type": "code",
      "source": [
        "# Step 1: Import libraries\n",
        "import pandas as pd\n",
        "import plotly.express as px"
      ],
      "metadata": {
        "id": "N6W2wiO1klou"
      },
      "execution_count": 1,
      "outputs": []
    },
    {
      "cell_type": "code",
      "source": [
        "# Step 2: Load dataset\n",
        "url = \"https://docs.google.com/spreadsheets/d/1Qdc_xh2ZRnuQ0_Z_NX5zSZmDAXvO-5JmdBUSsbfemgA/export?format=csv\"\n",
        "df = pd.read_csv(url)"
      ],
      "metadata": {
        "id": "foId3WY7oxPD"
      },
      "execution_count": 2,
      "outputs": []
    },
    {
      "cell_type": "code",
      "source": [
        "# Step 3: Inspect data structure\n",
        "print(df.head())\n",
        "print(df.columns)\n",
        "\n"
      ],
      "metadata": {
        "colab": {
          "base_uri": "https://localhost:8080/"
        },
        "id": "9W-01axGozwq",
        "outputId": "a05aa691-2f8f-4e8e-8e29-b2462a8041e2"
      },
      "execution_count": 3,
      "outputs": [
        {
          "output_type": "stream",
          "name": "stdout",
          "text": [
            "   Year                                   Leading Cause     Sex  \\\n",
            "0  2021  Diseases of Heart (I00-I09, I11, I13, I20-I51)    Male   \n",
            "1  2021                       Alzheimer's Disease (G30)  Female   \n",
            "2  2021  Diseases of Heart (I00-I09, I11, I13, I20-I51)  Female   \n",
            "3  2021           Malignant Neoplasms (Cancer: C00-C97)    Male   \n",
            "4  2021       Cerebrovascular Disease (Stroke: I60-I69)    Male   \n",
            "\n",
            "          Race Ethnicity Deaths Death Rate Age Adjusted Death Rate  \n",
            "0     Not Stated/Unknown    190        NaN                     NaN  \n",
            "1     Not Stated/Unknown      7        NaN                     NaN  \n",
            "2     Not Stated/Unknown    113        NaN                     NaN  \n",
            "3     Not Stated/Unknown     84        NaN                     NaN  \n",
            "4  Other Race/ Ethnicity     11        NaN                     NaN  \n",
            "Index(['Year', 'Leading Cause', 'Sex', 'Race Ethnicity', 'Deaths',\n",
            "       'Death Rate', 'Age Adjusted Death Rate'],\n",
            "      dtype='object')\n"
          ]
        }
      ]
    },
    {
      "cell_type": "code",
      "source": [
        "rows, cols = df.shape\n",
        "rows, cols"
      ],
      "metadata": {
        "colab": {
          "base_uri": "https://localhost:8080/"
        },
        "id": "yHN2Qt7dqHUR",
        "outputId": "678b0209-15d1-4441-8b35-7cbbe2238c0f"
      },
      "execution_count": 4,
      "outputs": [
        {
          "output_type": "execute_result",
          "data": {
            "text/plain": [
              "(2102, 7)"
            ]
          },
          "metadata": {},
          "execution_count": 4
        }
      ]
    },
    {
      "cell_type": "code",
      "source": [
        "# Step 4: Explore & Clean\n",
        "# a. Clean column names (remove spaces or capitalization)\n",
        "df.columns = df.columns.str.strip().str.title()\n",
        "# b. Convert 'Deaths' column to numeric, coercing errors\n",
        "df['Deaths'] = pd.to_numeric(df['Deaths'], errors='coerce')\n",
        "# c. Drop rows where 'Deaths' is NaN after coercion\n",
        "df.dropna(subset=['Deaths'], inplace=True)"
      ],
      "metadata": {
        "id": "k1Lw2Y48o2Jq"
      },
      "execution_count": 5,
      "outputs": []
    },
    {
      "cell_type": "code",
      "source": [
        "# Step 5: Summarization\n",
        "# a. Group data by Leading Cause and Year, summing total deaths\n",
        "grouped_df = df.groupby(['Leading Cause', 'Year'])['Deaths'].sum().reset_index()\n",
        "# b. Identify top 5 causes of death by total deaths\n",
        "top5_causes = (\n",
        "    grouped_df.groupby('Leading Cause')['Deaths']\n",
        "    .sum()\n",
        "    .nlargest(5)\n",
        "    .index\n",
        ")\n",
        "# c. Filter for only the top 5 causes\n",
        "filtered_df = grouped_df[grouped_df['Leading Cause'].isin(top5_causes)]"
      ],
      "metadata": {
        "id": "5fz5TuzBpAXs"
      },
      "execution_count": 6,
      "outputs": []
    },
    {
      "cell_type": "code",
      "source": [
        "# Step 6: Visualization (Pandas + Plotly)\n",
        "import plotly.express as px\n",
        "fig = px.line(\n",
        "    filtered_df,\n",
        "    x='Year',\n",
        "    y='Deaths',\n",
        "    color='Leading Cause',\n",
        "    markers=True,\n",
        "    title='Top 5 Leading Causes of Death Over Time'\n",
        ")\n",
        "fig.update_layout(\n",
        "    xaxis_title='Year',\n",
        "    yaxis_title='Total Deaths',\n",
        "    legend_title='Leading Cause',\n",
        "    template='plotly_white'\n",
        ")\n",
        "\n",
        "fig.show()"
      ],
      "metadata": {
        "colab": {
          "base_uri": "https://localhost:8080/",
          "height": 542
        },
        "id": "32VPjfI2pI5w",
        "outputId": "61482422-b57c-4979-9f1a-fe62a062158a"
      },
      "execution_count": 7,
      "outputs": [
        {
          "output_type": "display_data",
          "data": {
            "text/html": [
              "<html>\n",
              "<head><meta charset=\"utf-8\" /></head>\n",
              "<body>\n",
              "    <div>            <script src=\"https://cdnjs.cloudflare.com/ajax/libs/mathjax/2.7.5/MathJax.js?config=TeX-AMS-MML_SVG\"></script><script type=\"text/javascript\">if (window.MathJax && window.MathJax.Hub && window.MathJax.Hub.Config) {window.MathJax.Hub.Config({SVG: {font: \"STIX-Web\"}});}</script>                <script type=\"text/javascript\">window.PlotlyConfig = {MathJaxConfig: 'local'};</script>\n",
              "        <script charset=\"utf-8\" src=\"https://cdn.plot.ly/plotly-2.35.2.min.js\"></script>                <div id=\"c0a0d2af-ffb0-4a72-a280-9e3f7cbd292e\" class=\"plotly-graph-div\" style=\"height:525px; width:100%;\"></div>            <script type=\"text/javascript\">                                    window.PLOTLYENV=window.PLOTLYENV || {};                                    if (document.getElementById(\"c0a0d2af-ffb0-4a72-a280-9e3f7cbd292e\")) {                    Plotly.newPlot(                        \"c0a0d2af-ffb0-4a72-a280-9e3f7cbd292e\",                        [{\"hovertemplate\":\"Leading Cause=All Other Causes\\u003cbr\\u003eYear=%{x}\\u003cbr\\u003eDeaths=%{y}\\u003cextra\\u003e\\u003c\\u002fextra\\u003e\",\"legendgroup\":\"All Other Causes\",\"line\":{\"color\":\"#636efa\",\"dash\":\"solid\"},\"marker\":{\"symbol\":\"circle\"},\"mode\":\"lines+markers\",\"name\":\"All Other Causes\",\"orientation\":\"v\",\"showlegend\":true,\"x\":[2007,2008,2009,2010,2011,2012,2013,2014,2015,2016,2017,2018,2019,2020,2021],\"xaxis\":\"x\",\"y\":[8142.0,8556.0,8445.0,9552.0,10387.0,10708.0,11075.0,11134.0,11212.0,11257.0,10919.0,11301.0,11610.0,14287.0,14240.0],\"yaxis\":\"y\",\"type\":\"scatter\"},{\"hovertemplate\":\"Leading Cause=Covid-19\\u003cbr\\u003eYear=%{x}\\u003cbr\\u003eDeaths=%{y}\\u003cextra\\u003e\\u003c\\u002fextra\\u003e\",\"legendgroup\":\"Covid-19\",\"line\":{\"color\":\"#EF553B\",\"dash\":\"solid\"},\"marker\":{\"symbol\":\"circle\"},\"mode\":\"lines+markers\",\"name\":\"Covid-19\",\"orientation\":\"v\",\"showlegend\":true,\"x\":[2020,2021],\"xaxis\":\"x\",\"y\":[21241.0,8229.0],\"yaxis\":\"y\",\"type\":\"scatter\"},{\"hovertemplate\":\"Leading Cause=Diseases of Heart (I00-I09, I11, I13, I20-I51)\\u003cbr\\u003eYear=%{x}\\u003cbr\\u003eDeaths=%{y}\\u003cextra\\u003e\\u003c\\u002fextra\\u003e\",\"legendgroup\":\"Diseases of Heart (I00-I09, I11, I13, I20-I51)\",\"line\":{\"color\":\"#00cc96\",\"dash\":\"solid\"},\"marker\":{\"symbol\":\"circle\"},\"mode\":\"lines+markers\",\"name\":\"Diseases of Heart (I00-I09, I11, I13, I20-I51)\",\"orientation\":\"v\",\"showlegend\":true,\"x\":[2007,2008,2009,2010,2011,2012,2013,2014,2015,2016,2017,2018,2019,2020,2021],\"xaxis\":\"x\",\"y\":[21441.0,21192.0,20084.0,17927.0,16900.0,16731.0,16759.0,16517.0,17124.0,17159.0,17490.0,17743.0,17821.0,21261.0,16568.0],\"yaxis\":\"y\",\"type\":\"scatter\"},{\"hovertemplate\":\"Leading Cause=Influenza (Flu) and Pneumonia (J09-J18)\\u003cbr\\u003eYear=%{x}\\u003cbr\\u003eDeaths=%{y}\\u003cextra\\u003e\\u003c\\u002fextra\\u003e\",\"legendgroup\":\"Influenza (Flu) and Pneumonia (J09-J18)\",\"line\":{\"color\":\"#ab63fa\",\"dash\":\"solid\"},\"marker\":{\"symbol\":\"circle\"},\"mode\":\"lines+markers\",\"name\":\"Influenza (Flu) and Pneumonia (J09-J18)\",\"orientation\":\"v\",\"showlegend\":true,\"x\":[2007,2008,2009,2010,2011,2012,2013,2014,2015,2016,2017,2018,2019,2020,2021],\"xaxis\":\"x\",\"y\":[2236.0,2297.0,2274.0,2448.0,2491.0,2240.0,2472.0,2220.0,2094.0,2018.0,1943.0,2004.0,1624.0,2049.0,1628.0],\"yaxis\":\"y\",\"type\":\"scatter\"},{\"hovertemplate\":\"Leading Cause=Malignant Neoplasms (Cancer: C00-C97)\\u003cbr\\u003eYear=%{x}\\u003cbr\\u003eDeaths=%{y}\\u003cextra\\u003e\\u003c\\u002fextra\\u003e\",\"legendgroup\":\"Malignant Neoplasms (Cancer: C00-C97)\",\"line\":{\"color\":\"#FFA15A\",\"dash\":\"solid\"},\"marker\":{\"symbol\":\"circle\"},\"mode\":\"lines+markers\",\"name\":\"Malignant Neoplasms (Cancer: C00-C97)\",\"orientation\":\"v\",\"showlegend\":true,\"x\":[2007,2008,2009,2010,2011,2012,2013,2014,2015,2016,2017,2018,2019,2020,2021],\"xaxis\":\"x\",\"y\":[13249.0,13040.0,13174.0,13330.0,13438.0,13401.0,13358.0,13377.0,13309.0,13520.0,13290.0,13037.0,12448.0,11670.0,11578.0],\"yaxis\":\"y\",\"type\":\"scatter\"}],                        {\"template\":{\"data\":{\"barpolar\":[{\"marker\":{\"line\":{\"color\":\"white\",\"width\":0.5},\"pattern\":{\"fillmode\":\"overlay\",\"size\":10,\"solidity\":0.2}},\"type\":\"barpolar\"}],\"bar\":[{\"error_x\":{\"color\":\"#2a3f5f\"},\"error_y\":{\"color\":\"#2a3f5f\"},\"marker\":{\"line\":{\"color\":\"white\",\"width\":0.5},\"pattern\":{\"fillmode\":\"overlay\",\"size\":10,\"solidity\":0.2}},\"type\":\"bar\"}],\"carpet\":[{\"aaxis\":{\"endlinecolor\":\"#2a3f5f\",\"gridcolor\":\"#C8D4E3\",\"linecolor\":\"#C8D4E3\",\"minorgridcolor\":\"#C8D4E3\",\"startlinecolor\":\"#2a3f5f\"},\"baxis\":{\"endlinecolor\":\"#2a3f5f\",\"gridcolor\":\"#C8D4E3\",\"linecolor\":\"#C8D4E3\",\"minorgridcolor\":\"#C8D4E3\",\"startlinecolor\":\"#2a3f5f\"},\"type\":\"carpet\"}],\"choropleth\":[{\"colorbar\":{\"outlinewidth\":0,\"ticks\":\"\"},\"type\":\"choropleth\"}],\"contourcarpet\":[{\"colorbar\":{\"outlinewidth\":0,\"ticks\":\"\"},\"type\":\"contourcarpet\"}],\"contour\":[{\"colorbar\":{\"outlinewidth\":0,\"ticks\":\"\"},\"colorscale\":[[0.0,\"#0d0887\"],[0.1111111111111111,\"#46039f\"],[0.2222222222222222,\"#7201a8\"],[0.3333333333333333,\"#9c179e\"],[0.4444444444444444,\"#bd3786\"],[0.5555555555555556,\"#d8576b\"],[0.6666666666666666,\"#ed7953\"],[0.7777777777777778,\"#fb9f3a\"],[0.8888888888888888,\"#fdca26\"],[1.0,\"#f0f921\"]],\"type\":\"contour\"}],\"heatmapgl\":[{\"colorbar\":{\"outlinewidth\":0,\"ticks\":\"\"},\"colorscale\":[[0.0,\"#0d0887\"],[0.1111111111111111,\"#46039f\"],[0.2222222222222222,\"#7201a8\"],[0.3333333333333333,\"#9c179e\"],[0.4444444444444444,\"#bd3786\"],[0.5555555555555556,\"#d8576b\"],[0.6666666666666666,\"#ed7953\"],[0.7777777777777778,\"#fb9f3a\"],[0.8888888888888888,\"#fdca26\"],[1.0,\"#f0f921\"]],\"type\":\"heatmapgl\"}],\"heatmap\":[{\"colorbar\":{\"outlinewidth\":0,\"ticks\":\"\"},\"colorscale\":[[0.0,\"#0d0887\"],[0.1111111111111111,\"#46039f\"],[0.2222222222222222,\"#7201a8\"],[0.3333333333333333,\"#9c179e\"],[0.4444444444444444,\"#bd3786\"],[0.5555555555555556,\"#d8576b\"],[0.6666666666666666,\"#ed7953\"],[0.7777777777777778,\"#fb9f3a\"],[0.8888888888888888,\"#fdca26\"],[1.0,\"#f0f921\"]],\"type\":\"heatmap\"}],\"histogram2dcontour\":[{\"colorbar\":{\"outlinewidth\":0,\"ticks\":\"\"},\"colorscale\":[[0.0,\"#0d0887\"],[0.1111111111111111,\"#46039f\"],[0.2222222222222222,\"#7201a8\"],[0.3333333333333333,\"#9c179e\"],[0.4444444444444444,\"#bd3786\"],[0.5555555555555556,\"#d8576b\"],[0.6666666666666666,\"#ed7953\"],[0.7777777777777778,\"#fb9f3a\"],[0.8888888888888888,\"#fdca26\"],[1.0,\"#f0f921\"]],\"type\":\"histogram2dcontour\"}],\"histogram2d\":[{\"colorbar\":{\"outlinewidth\":0,\"ticks\":\"\"},\"colorscale\":[[0.0,\"#0d0887\"],[0.1111111111111111,\"#46039f\"],[0.2222222222222222,\"#7201a8\"],[0.3333333333333333,\"#9c179e\"],[0.4444444444444444,\"#bd3786\"],[0.5555555555555556,\"#d8576b\"],[0.6666666666666666,\"#ed7953\"],[0.7777777777777778,\"#fb9f3a\"],[0.8888888888888888,\"#fdca26\"],[1.0,\"#f0f921\"]],\"type\":\"histogram2d\"}],\"histogram\":[{\"marker\":{\"pattern\":{\"fillmode\":\"overlay\",\"size\":10,\"solidity\":0.2}},\"type\":\"histogram\"}],\"mesh3d\":[{\"colorbar\":{\"outlinewidth\":0,\"ticks\":\"\"},\"type\":\"mesh3d\"}],\"parcoords\":[{\"line\":{\"colorbar\":{\"outlinewidth\":0,\"ticks\":\"\"}},\"type\":\"parcoords\"}],\"pie\":[{\"automargin\":true,\"type\":\"pie\"}],\"scatter3d\":[{\"line\":{\"colorbar\":{\"outlinewidth\":0,\"ticks\":\"\"}},\"marker\":{\"colorbar\":{\"outlinewidth\":0,\"ticks\":\"\"}},\"type\":\"scatter3d\"}],\"scattercarpet\":[{\"marker\":{\"colorbar\":{\"outlinewidth\":0,\"ticks\":\"\"}},\"type\":\"scattercarpet\"}],\"scattergeo\":[{\"marker\":{\"colorbar\":{\"outlinewidth\":0,\"ticks\":\"\"}},\"type\":\"scattergeo\"}],\"scattergl\":[{\"marker\":{\"colorbar\":{\"outlinewidth\":0,\"ticks\":\"\"}},\"type\":\"scattergl\"}],\"scattermapbox\":[{\"marker\":{\"colorbar\":{\"outlinewidth\":0,\"ticks\":\"\"}},\"type\":\"scattermapbox\"}],\"scatterpolargl\":[{\"marker\":{\"colorbar\":{\"outlinewidth\":0,\"ticks\":\"\"}},\"type\":\"scatterpolargl\"}],\"scatterpolar\":[{\"marker\":{\"colorbar\":{\"outlinewidth\":0,\"ticks\":\"\"}},\"type\":\"scatterpolar\"}],\"scatter\":[{\"fillpattern\":{\"fillmode\":\"overlay\",\"size\":10,\"solidity\":0.2},\"type\":\"scatter\"}],\"scatterternary\":[{\"marker\":{\"colorbar\":{\"outlinewidth\":0,\"ticks\":\"\"}},\"type\":\"scatterternary\"}],\"surface\":[{\"colorbar\":{\"outlinewidth\":0,\"ticks\":\"\"},\"colorscale\":[[0.0,\"#0d0887\"],[0.1111111111111111,\"#46039f\"],[0.2222222222222222,\"#7201a8\"],[0.3333333333333333,\"#9c179e\"],[0.4444444444444444,\"#bd3786\"],[0.5555555555555556,\"#d8576b\"],[0.6666666666666666,\"#ed7953\"],[0.7777777777777778,\"#fb9f3a\"],[0.8888888888888888,\"#fdca26\"],[1.0,\"#f0f921\"]],\"type\":\"surface\"}],\"table\":[{\"cells\":{\"fill\":{\"color\":\"#EBF0F8\"},\"line\":{\"color\":\"white\"}},\"header\":{\"fill\":{\"color\":\"#C8D4E3\"},\"line\":{\"color\":\"white\"}},\"type\":\"table\"}]},\"layout\":{\"annotationdefaults\":{\"arrowcolor\":\"#2a3f5f\",\"arrowhead\":0,\"arrowwidth\":1},\"autotypenumbers\":\"strict\",\"coloraxis\":{\"colorbar\":{\"outlinewidth\":0,\"ticks\":\"\"}},\"colorscale\":{\"diverging\":[[0,\"#8e0152\"],[0.1,\"#c51b7d\"],[0.2,\"#de77ae\"],[0.3,\"#f1b6da\"],[0.4,\"#fde0ef\"],[0.5,\"#f7f7f7\"],[0.6,\"#e6f5d0\"],[0.7,\"#b8e186\"],[0.8,\"#7fbc41\"],[0.9,\"#4d9221\"],[1,\"#276419\"]],\"sequential\":[[0.0,\"#0d0887\"],[0.1111111111111111,\"#46039f\"],[0.2222222222222222,\"#7201a8\"],[0.3333333333333333,\"#9c179e\"],[0.4444444444444444,\"#bd3786\"],[0.5555555555555556,\"#d8576b\"],[0.6666666666666666,\"#ed7953\"],[0.7777777777777778,\"#fb9f3a\"],[0.8888888888888888,\"#fdca26\"],[1.0,\"#f0f921\"]],\"sequentialminus\":[[0.0,\"#0d0887\"],[0.1111111111111111,\"#46039f\"],[0.2222222222222222,\"#7201a8\"],[0.3333333333333333,\"#9c179e\"],[0.4444444444444444,\"#bd3786\"],[0.5555555555555556,\"#d8576b\"],[0.6666666666666666,\"#ed7953\"],[0.7777777777777778,\"#fb9f3a\"],[0.8888888888888888,\"#fdca26\"],[1.0,\"#f0f921\"]]},\"colorway\":[\"#636efa\",\"#EF553B\",\"#00cc96\",\"#ab63fa\",\"#FFA15A\",\"#19d3f3\",\"#FF6692\",\"#B6E880\",\"#FF97FF\",\"#FECB52\"],\"font\":{\"color\":\"#2a3f5f\"},\"geo\":{\"bgcolor\":\"white\",\"lakecolor\":\"white\",\"landcolor\":\"white\",\"showlakes\":true,\"showland\":true,\"subunitcolor\":\"#C8D4E3\"},\"hoverlabel\":{\"align\":\"left\"},\"hovermode\":\"closest\",\"mapbox\":{\"style\":\"light\"},\"paper_bgcolor\":\"white\",\"plot_bgcolor\":\"white\",\"polar\":{\"angularaxis\":{\"gridcolor\":\"#EBF0F8\",\"linecolor\":\"#EBF0F8\",\"ticks\":\"\"},\"bgcolor\":\"white\",\"radialaxis\":{\"gridcolor\":\"#EBF0F8\",\"linecolor\":\"#EBF0F8\",\"ticks\":\"\"}},\"scene\":{\"xaxis\":{\"backgroundcolor\":\"white\",\"gridcolor\":\"#DFE8F3\",\"gridwidth\":2,\"linecolor\":\"#EBF0F8\",\"showbackground\":true,\"ticks\":\"\",\"zerolinecolor\":\"#EBF0F8\"},\"yaxis\":{\"backgroundcolor\":\"white\",\"gridcolor\":\"#DFE8F3\",\"gridwidth\":2,\"linecolor\":\"#EBF0F8\",\"showbackground\":true,\"ticks\":\"\",\"zerolinecolor\":\"#EBF0F8\"},\"zaxis\":{\"backgroundcolor\":\"white\",\"gridcolor\":\"#DFE8F3\",\"gridwidth\":2,\"linecolor\":\"#EBF0F8\",\"showbackground\":true,\"ticks\":\"\",\"zerolinecolor\":\"#EBF0F8\"}},\"shapedefaults\":{\"line\":{\"color\":\"#2a3f5f\"}},\"ternary\":{\"aaxis\":{\"gridcolor\":\"#DFE8F3\",\"linecolor\":\"#A2B1C6\",\"ticks\":\"\"},\"baxis\":{\"gridcolor\":\"#DFE8F3\",\"linecolor\":\"#A2B1C6\",\"ticks\":\"\"},\"bgcolor\":\"white\",\"caxis\":{\"gridcolor\":\"#DFE8F3\",\"linecolor\":\"#A2B1C6\",\"ticks\":\"\"}},\"title\":{\"x\":0.05},\"xaxis\":{\"automargin\":true,\"gridcolor\":\"#EBF0F8\",\"linecolor\":\"#EBF0F8\",\"ticks\":\"\",\"title\":{\"standoff\":15},\"zerolinecolor\":\"#EBF0F8\",\"zerolinewidth\":2},\"yaxis\":{\"automargin\":true,\"gridcolor\":\"#EBF0F8\",\"linecolor\":\"#EBF0F8\",\"ticks\":\"\",\"title\":{\"standoff\":15},\"zerolinecolor\":\"#EBF0F8\",\"zerolinewidth\":2}}},\"xaxis\":{\"anchor\":\"y\",\"domain\":[0.0,1.0],\"title\":{\"text\":\"Year\"}},\"yaxis\":{\"anchor\":\"x\",\"domain\":[0.0,1.0],\"title\":{\"text\":\"Total Deaths\"}},\"legend\":{\"title\":{\"text\":\"Leading Cause\"},\"tracegroupgap\":0},\"title\":{\"text\":\"Top 5 Leading Causes of Death Over Time\"}},                        {\"responsive\": true}                    ).then(function(){\n",
              "                            \n",
              "var gd = document.getElementById('c0a0d2af-ffb0-4a72-a280-9e3f7cbd292e');\n",
              "var x = new MutationObserver(function (mutations, observer) {{\n",
              "        var display = window.getComputedStyle(gd).display;\n",
              "        if (!display || display === 'none') {{\n",
              "            console.log([gd, 'removed!']);\n",
              "            Plotly.purge(gd);\n",
              "            observer.disconnect();\n",
              "        }}\n",
              "}});\n",
              "\n",
              "// Listen for the removal of the full notebook cells\n",
              "var notebookContainer = gd.closest('#notebook-container');\n",
              "if (notebookContainer) {{\n",
              "    x.observe(notebookContainer, {childList: true});\n",
              "}}\n",
              "\n",
              "// Listen for the clearing of the current output cell\n",
              "var outputEl = gd.closest('.output');\n",
              "if (outputEl) {{\n",
              "    x.observe(outputEl, {childList: true});\n",
              "}}\n",
              "\n",
              "                        })                };                            </script>        </div>\n",
              "</body>\n",
              "</html>"
            ]
          },
          "metadata": {}
        }
      ]
    },
    {
      "cell_type": "markdown",
      "source": [
        "# 4. Discussion & conclusion\n",
        "## Outputs & Findings\n",
        "The output suggests that heart disease is the persistent leading cause of death during 2007-2021, with over 17,000 annual average deaths. Heart disease deaths surges in 2020 before returning to the downward trend in 2021, possibly due to covid pandemic. Cancer (approximately 13,000 every year) is the second major causes of death, which began declining around 2016. COVID-19 emerged as a major cause in 2020-2021, causing 21,241 deaths in 2020 and dropped over 60% in 2021 with vaccination. Influenza/Pneumonia deaths remained relatively stable. And \"All Other Causes\" increased by 75% during this period, potentially indicating aging populations.\n",
        "\n",
        "\n",
        "First, the persistent dominance of heart disease indicates the complexity of heart disease prevention and control. However, the overall trend is positive. Second, the steady decline of cancer mortality suggests the effectiveness of cancer prevention and control efforts over the past decade. Third, the sudden increase of COVID-19 mortality highlights the vulnerability of modern cities to infectious diseases.\n",
        "## Limitations and Future Directions\n",
        "Limitations: The data were not age-standardized, which is likely to be influenced by changes in population structure. In addition, this study did not include impact of socio-demographic factors, such as race on mortality risk. Future directions: conducting age-standardized analyses to remove the effects of population structure; utilizing socio-demographic factors and intervention policies to evaluate the trends.\n",
        "## Conclusion\n",
        "In summary, the structure of causes of death in NYC from 2007 to 2021 suggests both improvement in heart disease control and reveals challenges in emerging threats such as covid. Heart disease and cancer still require continuous attention. The COVID-19 pandemic highlights the need for dynamic disease surveillance systems, sensitive emergency response mechanisms, and efficient vaccine systems should be the priorities in future public health development.\n",
        "\n"
      ],
      "metadata": {
        "id": "2p2Hyhb0c6qh"
      }
    }
  ]
}